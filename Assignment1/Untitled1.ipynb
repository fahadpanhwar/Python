{
 "cells": [
  {
   "cell_type": "code",
   "execution_count": 28,
   "id": "4e99f158",
   "metadata": {},
   "outputs": [
    {
     "name": "stdout",
     "output_type": "stream",
     "text": [
      "twinkle, twinkle, little star,\n",
      "\thow i wonder what you are! \n",
      "\t\tup above the world so high, \n",
      "\t\tlike a diamond in the sky. \n",
      "twinkle, twinkle, little star, \n",
      "\thow i wonder what you are\n"
     ]
    }
   ],
   "source": [
    "print(\"twinkle, twinkle, little star,\\n\\thow i wonder what you are! \\n\\t\\tup above the world so high, \\n\\t\\tlike a diamond in the sky. \\ntwinkle, twinkle, little star, \\n\\thow i wonder what you are\")"
   ]
  },
  {
   "cell_type": "code",
   "execution_count": null,
   "id": "a5cd2572",
   "metadata": {},
   "outputs": [],
   "source": []
  },
  {
   "cell_type": "code",
   "execution_count": null,
   "id": "f7bedd66",
   "metadata": {},
   "outputs": [],
   "source": []
  },
  {
   "cell_type": "code",
   "execution_count": null,
   "id": "6744989e",
   "metadata": {},
   "outputs": [],
   "source": []
  }
 ],
 "metadata": {
  "kernelspec": {
   "display_name": "Python 3 (ipykernel)",
   "language": "python",
   "name": "python3"
  },
  "language_info": {
   "codemirror_mode": {
    "name": "ipython",
    "version": 3
   },
   "file_extension": ".py",
   "mimetype": "text/x-python",
   "name": "python",
   "nbconvert_exporter": "python",
   "pygments_lexer": "ipython3",
   "version": "3.9.7"
  }
 },
 "nbformat": 4,
 "nbformat_minor": 5
}
